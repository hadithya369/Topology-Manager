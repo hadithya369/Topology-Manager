{
 "cells": [
  {
   "cell_type": "code",
   "execution_count": 257,
   "metadata": {},
   "outputs": [],
   "source": [
    "import random\n",
    "import math\n",
    "\n",
    "def next_arrival_time(random_generator, lambda_):\n",
    "  \n",
    "  return (-1 / lambda_) * math.log(random_generator.random())"
   ]
  },
  {
   "cell_type": "code",
   "execution_count": 258,
   "metadata": {},
   "outputs": [
    {
     "data": {
      "text/plain": [
       "(11.972267970996118, 118.01436347356247, 0.00024544627493015505)"
      ]
     },
     "execution_count": 258,
     "metadata": {},
     "output_type": "execute_result"
    }
   ],
   "source": [
    "rng = random.Random()\n",
    "lambda_ = 1/12\n",
    "arrival_time = []\n",
    "for el in range(8*60*60):\n",
    "    arrival_time.append(next_arrival_time(rng, lambda_))\n",
    "sum(arrival_time)/len(arrival_time), max(arrival_time), min(arrival_time)"
   ]
  }
 ],
 "metadata": {
  "kernelspec": {
   "display_name": "Python 3",
   "language": "python",
   "name": "python3"
  },
  "language_info": {
   "codemirror_mode": {
    "name": "ipython",
    "version": 3
   },
   "file_extension": ".py",
   "mimetype": "text/x-python",
   "name": "python",
   "nbconvert_exporter": "python",
   "pygments_lexer": "ipython3",
   "version": "3.11.5"
  }
 },
 "nbformat": 4,
 "nbformat_minor": 2
}
